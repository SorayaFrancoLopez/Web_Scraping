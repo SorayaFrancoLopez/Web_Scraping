{
  "cells": [
    {
      "cell_type": "markdown",
      "id": "11d3248b",
      "metadata": {
        "id": "11d3248b"
      },
      "source": [
        "# Ejercicio opcional de Web Scraping\n",
        "\n",
        "Este ejercicio consiste en extraer datos de una página web, procesarlos y guardarlos en un fichero `csv`. Para ello, debes:\n",
        "\n",
        "1. Extraer los artículos en la página de inicio de [https://slashdot.org/](https://slashdot.org/) utilizando `BeautifulSoup`.\n",
        "2. Procesar los datos y guardarlos en un `DataFrame`.\n",
        "3. Crear un fichero `csv` a partir de dicho `DataFrame`."
      ]
    },
    {
      "cell_type": "markdown",
      "id": "0f64f1c1",
      "metadata": {
        "id": "0f64f1c1"
      },
      "source": [
        "## Importar librerías"
      ]
    },
    {
      "cell_type": "code",
      "execution_count": null,
      "id": "797ddfcb",
      "metadata": {
        "id": "797ddfcb"
      },
      "outputs": [],
      "source": [
        "import requests\n",
        "from bs4 import BeautifulSoup\n",
        "import pandas as pd"
      ]
    },
    {
      "cell_type": "markdown",
      "id": "d7c86f87",
      "metadata": {
        "id": "d7c86f87"
      },
      "source": [
        "## Hacer scraping de artículos"
      ]
    },
    {
      "cell_type": "code",
      "execution_count": null,
      "id": "b1d68215",
      "metadata": {
        "id": "b1d68215"
      },
      "outputs": [],
      "source": [
        "response = requests.get(\"https://slashdot.org/\")\n",
        "soup = BeautifulSoup(response.content)"
      ]
    },
    {
      "cell_type": "code",
      "execution_count": null,
      "id": "3325ab37",
      "metadata": {
        "id": "3325ab37"
      },
      "outputs": [],
      "source": [
        "articles = soup.select(\"h2\")\n",
        "data = []\n",
        "for a in articles:\n",
        "    link_element = a.find_next('a', class_='story-sourcelnk')\n",
        "    if link_element:\n",
        "        contenido_link = link_element.get_text().strip()\n",
        "    else:\n",
        "        contenido_link = None\n",
        "\n",
        "    body_element = a.find_next('div', class_='body')\n",
        "    if body_element:\n",
        "        contenido_body = body_element.get_text().strip()\n",
        "    else:\n",
        "        contenido_body = None\n",
        "\n",
        "    time_element = a.find_next('time')\n",
        "    if time_element:\n",
        "        datetime_attr = time_element.get('datetime')\n",
        "    else:\n",
        "        datetime_attr = None\n",
        "\n",
        "    dict_article = {\n",
        "        \"título\": a.get_text(),\n",
        "        \"fuente\": contenido_link,\n",
        "        \"descripción\": contenido_body,\n",
        "        \"fecha\": datetime_attr,\n",
        "    }\n",
        "    data.append(dict_article)\n",
        "\n",
        "    #He tenido que hacerlo con condicionales if, en algunos artículos no estaban los datos completos.\n",
        "    #Por ejemplo: faltaba la fuente y daba error."
      ]
    },
    {
      "cell_type": "code",
      "execution_count": null,
      "id": "eb5a84fe",
      "metadata": {
        "id": "eb5a84fe",
        "outputId": "9f2cee1f-f5e3-4a66-c0cb-a9ae0dd931ec"
      },
      "outputs": [
        {
          "data": {
            "text/html": [
              "<div>\n",
              "<style scoped>\n",
              "    .dataframe tbody tr th:only-of-type {\n",
              "        vertical-align: middle;\n",
              "    }\n",
              "\n",
              "    .dataframe tbody tr th {\n",
              "        vertical-align: top;\n",
              "    }\n",
              "\n",
              "    .dataframe thead th {\n",
              "        text-align: right;\n",
              "    }\n",
              "</style>\n",
              "<table border=\"1\" class=\"dataframe\">\n",
              "  <thead>\n",
              "    <tr style=\"text-align: right;\">\n",
              "      <th></th>\n",
              "      <th>título</th>\n",
              "      <th>fuente</th>\n",
              "      <th>descripción</th>\n",
              "      <th>fecha</th>\n",
              "    </tr>\n",
              "  </thead>\n",
              "  <tbody>\n",
              "    <tr>\n",
              "      <th>0</th>\n",
              "      <td>\\n PostgreSQL Reconsiders Its Process-Based Mo...</td>\n",
              "      <td>(reuters.com)</td>\n",
              "      <td>Jonathan Corbet, writing at LWN: In the fast-m...</td>\n",
              "      <td>on Monday June 19, 2023 @01:23PM</td>\n",
              "    </tr>\n",
              "    <tr>\n",
              "      <th>1</th>\n",
              "      <td>\\n EU To Air Ideas on Guarding Prized Technolo...</td>\n",
              "      <td>(reuters.com)</td>\n",
              "      <td>The European Commission will unveil on Tuesday...</td>\n",
              "      <td>on Monday June 19, 2023 @12:53PM</td>\n",
              "    </tr>\n",
              "    <tr>\n",
              "      <th>2</th>\n",
              "      <td>\\n Intel To Spend $33 Billion in Germany in La...</td>\n",
              "      <td>(reuters.com)</td>\n",
              "      <td>Intel will invest more than 30 billion euros (...</td>\n",
              "      <td>on Monday June 19, 2023 @12:00PM</td>\n",
              "    </tr>\n",
              "    <tr>\n",
              "      <th>3</th>\n",
              "      <td>\\n Apple Is Taking On Apples in a Truly Weird ...</td>\n",
              "      <td>(wired.com)</td>\n",
              "      <td>Apple, the company, wants rights to the image ...</td>\n",
              "      <td>on Monday June 19, 2023 @11:20AM</td>\n",
              "    </tr>\n",
              "    <tr>\n",
              "      <th>4</th>\n",
              "      <td>\\n Indonesia, SpaceX Launch Satellite To Boost...</td>\n",
              "      <td>(reuters.com)</td>\n",
              "      <td>Indonesia and Elon Musk's rocket company Space...</td>\n",
              "      <td>on Monday June 19, 2023 @10:40AM</td>\n",
              "    </tr>\n",
              "  </tbody>\n",
              "</table>\n",
              "</div>"
            ],
            "text/plain": [
              "                                              título         fuente  \\\n",
              "0  \\n PostgreSQL Reconsiders Its Process-Based Mo...  (reuters.com)   \n",
              "1  \\n EU To Air Ideas on Guarding Prized Technolo...  (reuters.com)   \n",
              "2  \\n Intel To Spend $33 Billion in Germany in La...  (reuters.com)   \n",
              "3  \\n Apple Is Taking On Apples in a Truly Weird ...    (wired.com)   \n",
              "4  \\n Indonesia, SpaceX Launch Satellite To Boost...  (reuters.com)   \n",
              "\n",
              "                                         descripción  \\\n",
              "0  Jonathan Corbet, writing at LWN: In the fast-m...   \n",
              "1  The European Commission will unveil on Tuesday...   \n",
              "2  Intel will invest more than 30 billion euros (...   \n",
              "3  Apple, the company, wants rights to the image ...   \n",
              "4  Indonesia and Elon Musk's rocket company Space...   \n",
              "\n",
              "                              fecha  \n",
              "0  on Monday June 19, 2023 @01:23PM  \n",
              "1  on Monday June 19, 2023 @12:53PM  \n",
              "2  on Monday June 19, 2023 @12:00PM  \n",
              "3  on Monday June 19, 2023 @11:20AM  \n",
              "4  on Monday June 19, 2023 @10:40AM  "
            ]
          },
          "execution_count": 4,
          "metadata": {},
          "output_type": "execute_result"
        }
      ],
      "source": [
        "df = pd.DataFrame(data)\n",
        "df.head()"
      ]
    },
    {
      "cell_type": "code",
      "execution_count": null,
      "id": "f2bf78ba",
      "metadata": {
        "id": "f2bf78ba"
      },
      "outputs": [],
      "source": [
        "df['título'] = df['título'].str.lstrip('\\n') #eliminamos \\n"
      ]
    },
    {
      "cell_type": "code",
      "execution_count": null,
      "id": "f08e16a1",
      "metadata": {
        "id": "f08e16a1"
      },
      "outputs": [],
      "source": [
        "df['fuente'] = df['fuente'].str[1:-1] #eliminamos primer y último caracter de columna 'fuente'."
      ]
    },
    {
      "cell_type": "code",
      "execution_count": null,
      "id": "3eb0c5c5",
      "metadata": {
        "id": "3eb0c5c5"
      },
      "outputs": [],
      "source": [
        "df['fecha'] = df['fecha'].str[3:] # eliminamos el on de la columna 'fecha'"
      ]
    },
    {
      "cell_type": "code",
      "execution_count": null,
      "id": "22e7301b",
      "metadata": {
        "id": "22e7301b",
        "outputId": "8e5dc89a-1e30-4db4-b7ea-17197ad9f27d"
      },
      "outputs": [
        {
          "data": {
            "text/html": [
              "<div>\n",
              "<style scoped>\n",
              "    .dataframe tbody tr th:only-of-type {\n",
              "        vertical-align: middle;\n",
              "    }\n",
              "\n",
              "    .dataframe tbody tr th {\n",
              "        vertical-align: top;\n",
              "    }\n",
              "\n",
              "    .dataframe thead th {\n",
              "        text-align: right;\n",
              "    }\n",
              "</style>\n",
              "<table border=\"1\" class=\"dataframe\">\n",
              "  <thead>\n",
              "    <tr style=\"text-align: right;\">\n",
              "      <th></th>\n",
              "      <th>título</th>\n",
              "      <th>fuente</th>\n",
              "      <th>descripción</th>\n",
              "      <th>fecha</th>\n",
              "    </tr>\n",
              "  </thead>\n",
              "  <tbody>\n",
              "    <tr>\n",
              "      <th>0</th>\n",
              "      <td>PostgreSQL Reconsiders Its Process-Based Mode...</td>\n",
              "      <td>reuters.com</td>\n",
              "      <td>Jonathan Corbet, writing at LWN: In the fast-m...</td>\n",
              "      <td>Monday June 19, 2023 @01:23PM</td>\n",
              "    </tr>\n",
              "    <tr>\n",
              "      <th>1</th>\n",
              "      <td>EU To Air Ideas on Guarding Prized Technology...</td>\n",
              "      <td>reuters.com</td>\n",
              "      <td>The European Commission will unveil on Tuesday...</td>\n",
              "      <td>Monday June 19, 2023 @12:53PM</td>\n",
              "    </tr>\n",
              "    <tr>\n",
              "      <th>2</th>\n",
              "      <td>Intel To Spend $33 Billion in Germany in Land...</td>\n",
              "      <td>reuters.com</td>\n",
              "      <td>Intel will invest more than 30 billion euros (...</td>\n",
              "      <td>Monday June 19, 2023 @12:00PM</td>\n",
              "    </tr>\n",
              "    <tr>\n",
              "      <th>3</th>\n",
              "      <td>Apple Is Taking On Apples in a Truly Weird Tr...</td>\n",
              "      <td>wired.com</td>\n",
              "      <td>Apple, the company, wants rights to the image ...</td>\n",
              "      <td>Monday June 19, 2023 @11:20AM</td>\n",
              "    </tr>\n",
              "    <tr>\n",
              "      <th>4</th>\n",
              "      <td>Indonesia, SpaceX Launch Satellite To Boost I...</td>\n",
              "      <td>reuters.com</td>\n",
              "      <td>Indonesia and Elon Musk's rocket company Space...</td>\n",
              "      <td>Monday June 19, 2023 @10:40AM</td>\n",
              "    </tr>\n",
              "  </tbody>\n",
              "</table>\n",
              "</div>"
            ],
            "text/plain": [
              "                                              título       fuente  \\\n",
              "0   PostgreSQL Reconsiders Its Process-Based Mode...  reuters.com   \n",
              "1   EU To Air Ideas on Guarding Prized Technology...  reuters.com   \n",
              "2   Intel To Spend $33 Billion in Germany in Land...  reuters.com   \n",
              "3   Apple Is Taking On Apples in a Truly Weird Tr...    wired.com   \n",
              "4   Indonesia, SpaceX Launch Satellite To Boost I...  reuters.com   \n",
              "\n",
              "                                         descripción  \\\n",
              "0  Jonathan Corbet, writing at LWN: In the fast-m...   \n",
              "1  The European Commission will unveil on Tuesday...   \n",
              "2  Intel will invest more than 30 billion euros (...   \n",
              "3  Apple, the company, wants rights to the image ...   \n",
              "4  Indonesia and Elon Musk's rocket company Space...   \n",
              "\n",
              "                           fecha  \n",
              "0  Monday June 19, 2023 @01:23PM  \n",
              "1  Monday June 19, 2023 @12:53PM  \n",
              "2  Monday June 19, 2023 @12:00PM  \n",
              "3  Monday June 19, 2023 @11:20AM  \n",
              "4  Monday June 19, 2023 @10:40AM  "
            ]
          },
          "execution_count": 8,
          "metadata": {},
          "output_type": "execute_result"
        }
      ],
      "source": [
        "df.head()"
      ]
    },
    {
      "cell_type": "markdown",
      "id": "8eea168a",
      "metadata": {
        "id": "8eea168a"
      },
      "source": [
        "## Guardar dataframe"
      ]
    },
    {
      "cell_type": "code",
      "execution_count": null,
      "id": "ee26ece8",
      "metadata": {
        "id": "ee26ece8"
      },
      "outputs": [],
      "source": [
        "df.to_csv('Ejercico_WebScraping.csv', index=False)"
      ]
    }
  ],
  "metadata": {
    "interpreter": {
      "hash": "f95277ffa606a35557c638e3347ebf36a745f70f7d65299eb7247e0781680f94"
    },
    "kernelspec": {
      "display_name": "Python 3.8.8 64-bit ('nuclio': conda)",
      "language": "python",
      "name": "python3"
    },
    "language_info": {
      "codemirror_mode": {
        "name": "ipython",
        "version": 3
      },
      "file_extension": ".py",
      "mimetype": "text/x-python",
      "name": "python",
      "nbconvert_exporter": "python",
      "pygments_lexer": "ipython3",
      "version": "3.10.9"
    },
    "colab": {
      "provenance": []
    }
  },
  "nbformat": 4,
  "nbformat_minor": 5
}